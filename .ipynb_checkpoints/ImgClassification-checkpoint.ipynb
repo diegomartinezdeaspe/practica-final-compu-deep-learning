{
 "cells": [
  {
   "cell_type": "code",
   "execution_count": 78,
   "id": "229c5492",
   "metadata": {},
   "outputs": [],
   "source": [
    "import pandas as pd\n",
    "import matplotlib.pyplot as plt\n",
    "import numpy as np\n",
    "\n",
    "import keras\n",
    "import tensorflow as tf\n",
    "from tensorflow.keras.datasets import mnist\n",
    "from keras.layers.core import Dense, Dropout, Activation\n",
    "from keras.layers import Conv2D, MaxPooling2D, ZeroPadding2D, GlobalAveragePooling2D, Flatten, BatchNormalization\n",
    "from keras.utils import np_utils\n",
    "from keras.models import Sequential\n",
    "from tensorflow.keras.utils import to_categorical"
   ]
  },
  {
   "cell_type": "code",
   "execution_count": 296,
   "id": "9d70b40b",
   "metadata": {},
   "outputs": [],
   "source": [
    "df = pd.read_csv('AirbnbData/CleanData/df_listings_detailed_limpio.csv')"
   ]
  },
  {
   "cell_type": "code",
   "execution_count": 297,
   "id": "93bb50eb",
   "metadata": {},
   "outputs": [],
   "source": [
    "df_orig = pd.read_csv('AirbnbData/CleanData/df_listings_detailed_limpio.csv')"
   ]
  },
  {
   "cell_type": "markdown",
   "id": "69c980e0",
   "metadata": {},
   "source": [
    "Nos quedamos solo con el indice original, y los precios:"
   ]
  },
  {
   "cell_type": "code",
   "execution_count": 298,
   "id": "7334e955",
   "metadata": {},
   "outputs": [
    {
     "data": {
      "text/html": [
       "<div>\n",
       "<style scoped>\n",
       "    .dataframe tbody tr th:only-of-type {\n",
       "        vertical-align: middle;\n",
       "    }\n",
       "\n",
       "    .dataframe tbody tr th {\n",
       "        vertical-align: top;\n",
       "    }\n",
       "\n",
       "    .dataframe thead th {\n",
       "        text-align: right;\n",
       "    }\n",
       "</style>\n",
       "<table border=\"1\" class=\"dataframe\">\n",
       "  <thead>\n",
       "    <tr style=\"text-align: right;\">\n",
       "      <th></th>\n",
       "      <th>Unnamed: 0</th>\n",
       "      <th>id</th>\n",
       "      <th>host_is_superhost</th>\n",
       "      <th>host_identity_verified</th>\n",
       "      <th>neighbourhood_cleansed</th>\n",
       "      <th>neighbourhood_group_cleansed</th>\n",
       "      <th>property_type</th>\n",
       "      <th>room_type</th>\n",
       "      <th>bedrooms</th>\n",
       "      <th>beds</th>\n",
       "      <th>price</th>\n",
       "      <th>number_of_reviews</th>\n",
       "      <th>bathrooms</th>\n",
       "    </tr>\n",
       "  </thead>\n",
       "  <tbody>\n",
       "    <tr>\n",
       "      <th>0</th>\n",
       "      <td>0</td>\n",
       "      <td>6369</td>\n",
       "      <td>1</td>\n",
       "      <td>1</td>\n",
       "      <td>Hispanoamérica</td>\n",
       "      <td>Chamartín</td>\n",
       "      <td>Private room in apartment</td>\n",
       "      <td>Private room</td>\n",
       "      <td>1.0</td>\n",
       "      <td>1.0</td>\n",
       "      <td>60.0</td>\n",
       "      <td>78</td>\n",
       "      <td>1.0</td>\n",
       "    </tr>\n",
       "    <tr>\n",
       "      <th>1</th>\n",
       "      <td>1</td>\n",
       "      <td>21853</td>\n",
       "      <td>0</td>\n",
       "      <td>1</td>\n",
       "      <td>Cármenes</td>\n",
       "      <td>Latina</td>\n",
       "      <td>Private room in apartment</td>\n",
       "      <td>Private room</td>\n",
       "      <td>1.0</td>\n",
       "      <td>1.0</td>\n",
       "      <td>31.0</td>\n",
       "      <td>33</td>\n",
       "      <td>1.0</td>\n",
       "    </tr>\n",
       "    <tr>\n",
       "      <th>2</th>\n",
       "      <td>2</td>\n",
       "      <td>23001</td>\n",
       "      <td>0</td>\n",
       "      <td>1</td>\n",
       "      <td>Legazpi</td>\n",
       "      <td>Arganzuela</td>\n",
       "      <td>Entire apartment</td>\n",
       "      <td>Entire home/apt</td>\n",
       "      <td>3.0</td>\n",
       "      <td>5.0</td>\n",
       "      <td>50.0</td>\n",
       "      <td>0</td>\n",
       "      <td>2.0</td>\n",
       "    </tr>\n",
       "    <tr>\n",
       "      <th>3</th>\n",
       "      <td>4</td>\n",
       "      <td>26825</td>\n",
       "      <td>0</td>\n",
       "      <td>1</td>\n",
       "      <td>Legazpi</td>\n",
       "      <td>Arganzuela</td>\n",
       "      <td>Private room in house</td>\n",
       "      <td>Private room</td>\n",
       "      <td>1.0</td>\n",
       "      <td>1.0</td>\n",
       "      <td>26.0</td>\n",
       "      <td>149</td>\n",
       "      <td>1.0</td>\n",
       "    </tr>\n",
       "    <tr>\n",
       "      <th>4</th>\n",
       "      <td>6</td>\n",
       "      <td>30320</td>\n",
       "      <td>0</td>\n",
       "      <td>0</td>\n",
       "      <td>Sol</td>\n",
       "      <td>Centro</td>\n",
       "      <td>Entire apartment</td>\n",
       "      <td>Entire home/apt</td>\n",
       "      <td>1.0</td>\n",
       "      <td>2.0</td>\n",
       "      <td>65.0</td>\n",
       "      <td>170</td>\n",
       "      <td>1.0</td>\n",
       "    </tr>\n",
       "    <tr>\n",
       "      <th>...</th>\n",
       "      <td>...</td>\n",
       "      <td>...</td>\n",
       "      <td>...</td>\n",
       "      <td>...</td>\n",
       "      <td>...</td>\n",
       "      <td>...</td>\n",
       "      <td>...</td>\n",
       "      <td>...</td>\n",
       "      <td>...</td>\n",
       "      <td>...</td>\n",
       "      <td>...</td>\n",
       "      <td>...</td>\n",
       "      <td>...</td>\n",
       "    </tr>\n",
       "    <tr>\n",
       "      <th>16276</th>\n",
       "      <td>19612</td>\n",
       "      <td>49184441</td>\n",
       "      <td>0</td>\n",
       "      <td>1</td>\n",
       "      <td>Puerta del Angel</td>\n",
       "      <td>Latina</td>\n",
       "      <td>Entire apartment</td>\n",
       "      <td>Entire home/apt</td>\n",
       "      <td>2.0</td>\n",
       "      <td>2.0</td>\n",
       "      <td>40.0</td>\n",
       "      <td>0</td>\n",
       "      <td>1.0</td>\n",
       "    </tr>\n",
       "    <tr>\n",
       "      <th>16277</th>\n",
       "      <td>19613</td>\n",
       "      <td>49185822</td>\n",
       "      <td>0</td>\n",
       "      <td>1</td>\n",
       "      <td>Embajadores</td>\n",
       "      <td>Centro</td>\n",
       "      <td>Private room in apartment</td>\n",
       "      <td>Private room</td>\n",
       "      <td>1.0</td>\n",
       "      <td>1.0</td>\n",
       "      <td>23.0</td>\n",
       "      <td>0</td>\n",
       "      <td>2.0</td>\n",
       "    </tr>\n",
       "    <tr>\n",
       "      <th>16278</th>\n",
       "      <td>19614</td>\n",
       "      <td>49186179</td>\n",
       "      <td>0</td>\n",
       "      <td>1</td>\n",
       "      <td>Gaztambide</td>\n",
       "      <td>Chamberí</td>\n",
       "      <td>Private room in apartment</td>\n",
       "      <td>Private room</td>\n",
       "      <td>1.0</td>\n",
       "      <td>1.0</td>\n",
       "      <td>21.0</td>\n",
       "      <td>0</td>\n",
       "      <td>3.5</td>\n",
       "    </tr>\n",
       "    <tr>\n",
       "      <th>16279</th>\n",
       "      <td>19615</td>\n",
       "      <td>49187258</td>\n",
       "      <td>0</td>\n",
       "      <td>1</td>\n",
       "      <td>Arapiles</td>\n",
       "      <td>Chamberí</td>\n",
       "      <td>Private room in apartment</td>\n",
       "      <td>Private room</td>\n",
       "      <td>1.0</td>\n",
       "      <td>1.0</td>\n",
       "      <td>22.0</td>\n",
       "      <td>0</td>\n",
       "      <td>3.0</td>\n",
       "    </tr>\n",
       "    <tr>\n",
       "      <th>16280</th>\n",
       "      <td>19616</td>\n",
       "      <td>49187471</td>\n",
       "      <td>0</td>\n",
       "      <td>1</td>\n",
       "      <td>Guindalera</td>\n",
       "      <td>Salamanca</td>\n",
       "      <td>Private room in apartment</td>\n",
       "      <td>Private room</td>\n",
       "      <td>1.0</td>\n",
       "      <td>1.0</td>\n",
       "      <td>19.0</td>\n",
       "      <td>0</td>\n",
       "      <td>3.0</td>\n",
       "    </tr>\n",
       "  </tbody>\n",
       "</table>\n",
       "<p>16281 rows × 13 columns</p>\n",
       "</div>"
      ],
      "text/plain": [
       "       Unnamed: 0        id  host_is_superhost  host_identity_verified  \\\n",
       "0               0      6369                  1                       1   \n",
       "1               1     21853                  0                       1   \n",
       "2               2     23001                  0                       1   \n",
       "3               4     26825                  0                       1   \n",
       "4               6     30320                  0                       0   \n",
       "...           ...       ...                ...                     ...   \n",
       "16276       19612  49184441                  0                       1   \n",
       "16277       19613  49185822                  0                       1   \n",
       "16278       19614  49186179                  0                       1   \n",
       "16279       19615  49187258                  0                       1   \n",
       "16280       19616  49187471                  0                       1   \n",
       "\n",
       "      neighbourhood_cleansed neighbourhood_group_cleansed  \\\n",
       "0             Hispanoamérica                    Chamartín   \n",
       "1                   Cármenes                       Latina   \n",
       "2                    Legazpi                   Arganzuela   \n",
       "3                    Legazpi                   Arganzuela   \n",
       "4                        Sol                       Centro   \n",
       "...                      ...                          ...   \n",
       "16276       Puerta del Angel                       Latina   \n",
       "16277            Embajadores                       Centro   \n",
       "16278             Gaztambide                     Chamberí   \n",
       "16279               Arapiles                     Chamberí   \n",
       "16280             Guindalera                    Salamanca   \n",
       "\n",
       "                   property_type        room_type  bedrooms  beds  price  \\\n",
       "0      Private room in apartment     Private room       1.0   1.0   60.0   \n",
       "1      Private room in apartment     Private room       1.0   1.0   31.0   \n",
       "2               Entire apartment  Entire home/apt       3.0   5.0   50.0   \n",
       "3          Private room in house     Private room       1.0   1.0   26.0   \n",
       "4               Entire apartment  Entire home/apt       1.0   2.0   65.0   \n",
       "...                          ...              ...       ...   ...    ...   \n",
       "16276           Entire apartment  Entire home/apt       2.0   2.0   40.0   \n",
       "16277  Private room in apartment     Private room       1.0   1.0   23.0   \n",
       "16278  Private room in apartment     Private room       1.0   1.0   21.0   \n",
       "16279  Private room in apartment     Private room       1.0   1.0   22.0   \n",
       "16280  Private room in apartment     Private room       1.0   1.0   19.0   \n",
       "\n",
       "       number_of_reviews bathrooms  \n",
       "0                     78       1.0  \n",
       "1                     33       1.0  \n",
       "2                      0       2.0  \n",
       "3                    149       1.0  \n",
       "4                    170       1.0  \n",
       "...                  ...       ...  \n",
       "16276                  0       1.0  \n",
       "16277                  0       2.0  \n",
       "16278                  0       3.5  \n",
       "16279                  0       3.0  \n",
       "16280                  0       3.0  \n",
       "\n",
       "[16281 rows x 13 columns]"
      ]
     },
     "execution_count": 298,
     "metadata": {},
     "output_type": "execute_result"
    }
   ],
   "source": [
    "df"
   ]
  },
  {
   "cell_type": "code",
   "execution_count": 299,
   "id": "b3c4b766",
   "metadata": {},
   "outputs": [],
   "source": [
    "df = df.drop(columns = ['id', 'host_is_superhost', 'host_identity_verified', 'neighbourhood_cleansed', 'neighbourhood_group_cleansed',\n",
    "                       'property_type', 'room_type', 'bedrooms', 'beds', 'number_of_reviews', 'bathrooms'])"
   ]
  },
  {
   "cell_type": "code",
   "execution_count": 300,
   "id": "a34657fc",
   "metadata": {},
   "outputs": [],
   "source": [
    "df_orig = df_orig.drop(columns = ['id', 'host_is_superhost', 'host_identity_verified', 'neighbourhood_cleansed', 'neighbourhood_group_cleansed',\n",
    "                       'property_type', 'room_type', 'bedrooms', 'beds', 'number_of_reviews', 'bathrooms'])"
   ]
  },
  {
   "cell_type": "code",
   "execution_count": 301,
   "id": "a4eac6ae",
   "metadata": {},
   "outputs": [],
   "source": [
    "df = df.rename(columns = {\"Unnamed: 0\" : \"IndexOriginal\"})"
   ]
  },
  {
   "cell_type": "code",
   "execution_count": 302,
   "id": "f0f7867f",
   "metadata": {},
   "outputs": [],
   "source": [
    "df_orig = df_orig.rename(columns = {\"Unnamed: 0\" : \"IndexOriginal\"})"
   ]
  },
  {
   "cell_type": "code",
   "execution_count": 303,
   "id": "86262d4a",
   "metadata": {},
   "outputs": [],
   "source": [
    "df = df.set_index('IndexOriginal')"
   ]
  },
  {
   "cell_type": "code",
   "execution_count": 304,
   "id": "aec4fca0",
   "metadata": {},
   "outputs": [
    {
     "data": {
      "text/html": [
       "<div>\n",
       "<style scoped>\n",
       "    .dataframe tbody tr th:only-of-type {\n",
       "        vertical-align: middle;\n",
       "    }\n",
       "\n",
       "    .dataframe tbody tr th {\n",
       "        vertical-align: top;\n",
       "    }\n",
       "\n",
       "    .dataframe thead th {\n",
       "        text-align: right;\n",
       "    }\n",
       "</style>\n",
       "<table border=\"1\" class=\"dataframe\">\n",
       "  <thead>\n",
       "    <tr style=\"text-align: right;\">\n",
       "      <th></th>\n",
       "      <th>price</th>\n",
       "    </tr>\n",
       "    <tr>\n",
       "      <th>IndexOriginal</th>\n",
       "      <th></th>\n",
       "    </tr>\n",
       "  </thead>\n",
       "  <tbody>\n",
       "    <tr>\n",
       "      <th>0</th>\n",
       "      <td>60.0</td>\n",
       "    </tr>\n",
       "    <tr>\n",
       "      <th>1</th>\n",
       "      <td>31.0</td>\n",
       "    </tr>\n",
       "    <tr>\n",
       "      <th>2</th>\n",
       "      <td>50.0</td>\n",
       "    </tr>\n",
       "    <tr>\n",
       "      <th>4</th>\n",
       "      <td>26.0</td>\n",
       "    </tr>\n",
       "    <tr>\n",
       "      <th>6</th>\n",
       "      <td>65.0</td>\n",
       "    </tr>\n",
       "    <tr>\n",
       "      <th>...</th>\n",
       "      <td>...</td>\n",
       "    </tr>\n",
       "    <tr>\n",
       "      <th>19612</th>\n",
       "      <td>40.0</td>\n",
       "    </tr>\n",
       "    <tr>\n",
       "      <th>19613</th>\n",
       "      <td>23.0</td>\n",
       "    </tr>\n",
       "    <tr>\n",
       "      <th>19614</th>\n",
       "      <td>21.0</td>\n",
       "    </tr>\n",
       "    <tr>\n",
       "      <th>19615</th>\n",
       "      <td>22.0</td>\n",
       "    </tr>\n",
       "    <tr>\n",
       "      <th>19616</th>\n",
       "      <td>19.0</td>\n",
       "    </tr>\n",
       "  </tbody>\n",
       "</table>\n",
       "<p>16281 rows × 1 columns</p>\n",
       "</div>"
      ],
      "text/plain": [
       "               price\n",
       "IndexOriginal       \n",
       "0               60.0\n",
       "1               31.0\n",
       "2               50.0\n",
       "4               26.0\n",
       "6               65.0\n",
       "...              ...\n",
       "19612           40.0\n",
       "19613           23.0\n",
       "19614           21.0\n",
       "19615           22.0\n",
       "19616           19.0\n",
       "\n",
       "[16281 rows x 1 columns]"
      ]
     },
     "execution_count": 304,
     "metadata": {},
     "output_type": "execute_result"
    }
   ],
   "source": [
    "df"
   ]
  },
  {
   "cell_type": "markdown",
   "id": "a34523a8",
   "metadata": {},
   "source": [
    "### Análisis precios"
   ]
  },
  {
   "cell_type": "code",
   "execution_count": 29,
   "id": "d7788e30",
   "metadata": {},
   "outputs": [
    {
     "data": {
      "image/png": "[encoded data removed]",
      "text/plain": [
       "<Figure size 432x288 with 1 Axes>"
      ]
     },
     "metadata": {
      "needs_background": "light"
     },
     "output_type": "display_data"
    }
   ],
   "source": [
    "plt.hist(df['price'])\n",
    "plt.show()"
   ]
  },
  {
   "cell_type": "code",
   "execution_count": 253,
   "id": "fcbc5d58",
   "metadata": {},
   "outputs": [
    {
     "data": {
      "text/plain": [
       "(array([11330.,  3540.,   953.,   458.]),\n",
       " array([  8.,  81., 154., 227., 300.]),\n",
       " <BarContainer object of 4 artists>)"
      ]
     },
     "execution_count": 253,
     "metadata": {},
     "output_type": "execute_result"
    },
    {
     "data": {
      "image/png": "[encoded data removed]",
      "text/plain": [
       "<Figure size 432x288 with 1 Axes>"
      ]
     },
     "metadata": {
      "needs_background": "light"
     },
     "output_type": "display_data"
    }
   ],
   "source": [
    "plt.hist(df['price'], bins = 4)"
   ]
  },
  {
   "cell_type": "markdown",
   "id": "f8595cc8",
   "metadata": {},
   "source": [
    "Para realizar la clasificación de imagenes, vamos a optar por categorizar los precios en 4 rangos de precios. De esta manera el modelo tratará de clasificar las imagenes de acuerdo a este rango de precios. "
   ]
  },
  {
   "cell_type": "code",
   "execution_count": 305,
   "id": "2eea901b",
   "metadata": {},
   "outputs": [],
   "source": [
    "def assign_class(price):\n",
    "    classif = 13 #si algun caso devuelve un 13 -> error\n",
    "    if (price <= 35):\n",
    "        classif = 0\n",
    "    elif (35 < price <= 80):\n",
    "        classif = 1\n",
    "    elif (80 < price <= 160):\n",
    "        classif = 2\n",
    "    elif (160 < price <= 300):\n",
    "        classif = 3\n",
    "        \n",
    "    return classif"
   ]
  },
  {
   "cell_type": "code",
   "execution_count": 306,
   "id": "54e6383b",
   "metadata": {},
   "outputs": [],
   "source": [
    "df['price'] = df['price'].apply(lambda x: assign_class(x)) "
   ]
  },
  {
   "cell_type": "code",
   "execution_count": 307,
   "id": "3a8c4e82",
   "metadata": {},
   "outputs": [
    {
     "data": {
      "text/plain": [
       "array([1, 0, 2, 3], dtype=int64)"
      ]
     },
     "execution_count": 307,
     "metadata": {},
     "output_type": "execute_result"
    }
   ],
   "source": [
    "df['price'].unique()"
   ]
  },
  {
   "cell_type": "code",
   "execution_count": 308,
   "id": "a4b4d6eb",
   "metadata": {},
   "outputs": [
    {
     "data": {
      "text/plain": [
       "1    6680\n",
       "0    4650\n",
       "2    3701\n",
       "3    1250\n",
       "Name: price, dtype: int64"
      ]
     },
     "execution_count": 308,
     "metadata": {},
     "output_type": "execute_result"
    }
   ],
   "source": [
    "df['price'].value_counts()"
   ]
  },
  {
   "cell_type": "markdown",
   "id": "814c7019",
   "metadata": {},
   "source": [
    "### Load Images"
   ]
  },
  {
   "cell_type": "code",
   "execution_count": 126,
   "id": "62900d33",
   "metadata": {},
   "outputs": [],
   "source": [
    "train_ind = df.index.values[0:13024]\n",
    "val_ind = df.index.values[13024:]"
   ]
  },
  {
   "cell_type": "markdown",
   "id": "af6ff676",
   "metadata": {},
   "source": [
    "Conjunto train hasta el index original 13024, y conjunto validacion hasta el final (80%/20%)"
   ]
  },
  {
   "cell_type": "markdown",
   "id": "463df175",
   "metadata": {},
   "source": [
    "A continuación, cargaremos las imagenes y las transformaremos para tener un tamaño de 100x100"
   ]
  },
  {
   "cell_type": "code",
   "execution_count": 54,
   "id": "93f3b9a6",
   "metadata": {},
   "outputs": [],
   "source": [
    "import cv2\n",
    "import os"
   ]
  },
  {
   "cell_type": "code",
   "execution_count": 332,
   "id": "4ed09056",
   "metadata": {},
   "outputs": [],
   "source": [
    "IMG_SIZE = 100\n",
    "def get_data(indexes, prices):\n",
    "    data = []\n",
    "    images = []\n",
    "    labels = []\n",
    "    data_dir = \"AirbnbData/Images/listings_detailed_\"\n",
    "    for ind in indexes:\n",
    "        try:\n",
    "            path = data_dir + str(ind) + \".jpg\"\n",
    "            img_arr = cv2.imread(path)[...,::-1]\n",
    "            resized_arr = cv2.resize(img_arr, (IMG_SIZE, IMG_SIZE))\n",
    "            images.append(resized_arr) #Retornamos los index para luego extraer y_train e y_val\n",
    "            labels.append(prices[ind])\n",
    "        except Exception as e:\n",
    "            pass\n",
    "    images = np.array(images, dtype = 'float32')\n",
    "    labels = np.array(labels, dtype = 'int32')\n",
    "    data.append((images, labels))\n",
    "    \n",
    "    return data\n",
    "    "
   ]
  },
  {
   "cell_type": "code",
   "execution_count": 333,
   "id": "b78e3c3b",
   "metadata": {},
   "outputs": [],
   "source": [
    "X_train = get_data(train_ind, df['price'][train_ind])"
   ]
  },
  {
   "cell_type": "code",
   "execution_count": 334,
   "id": "baf9864a",
   "metadata": {},
   "outputs": [],
   "source": [
    "X_train = X_train[0]\n",
    "X_train_data = X_train[0]\n",
    "y_train = X_train[1]\n",
    "y_train = to_categorical(y_train, num_classes=4)"
   ]
  },
  {
   "cell_type": "code",
   "execution_count": 335,
   "id": "14acf1cd",
   "metadata": {},
   "outputs": [],
   "source": [
    "X_val = get_data(val_ind, df['price'][val_ind])"
   ]
  },
  {
   "cell_type": "code",
   "execution_count": 336,
   "id": "c11c88d4",
   "metadata": {},
   "outputs": [],
   "source": [
    "X_val = X_val[0]\n",
    "X_val_data = X_val[0]\n",
    "y_val = X_val[1]\n",
    "y_val = to_categorical(y_val, num_classes=4)"
   ]
  },
  {
   "cell_type": "code",
   "execution_count": 337,
   "id": "9524cdb3",
   "metadata": {},
   "outputs": [
    {
     "name": "stdout",
     "output_type": "stream",
     "text": [
      "(12991, 100, 100, 3) (12991, 4)\n",
      "(3248, 100, 100, 3) (3248, 4)\n"
     ]
    }
   ],
   "source": [
    "print(X_train_data.shape, y_train.shape)\n",
    "print(X_val_data.shape, y_val.shape)"
   ]
  },
  {
   "cell_type": "markdown",
   "id": "f4602130",
   "metadata": {},
   "source": [
    "### Modelo Clasificacion - Basic CNN"
   ]
  },
  {
   "cell_type": "code",
   "execution_count": 354,
   "id": "7994307b",
   "metadata": {},
   "outputs": [],
   "source": [
    "model_in = Sequential()\n",
    "\n",
    "model_in.add(Conv2D(32, 3, activation=\"relu\", input_shape=(100,100,3)))\n",
    "model_in.add(MaxPooling2D())\n",
    "\n",
    "model_in.add(Conv2D(32, 3, activation=\"relu\"))\n",
    "model_in.add(MaxPooling2D())\n",
    "\n",
    "model_in.add(Dropout(0.3))\n",
    "\n",
    "model_in.add(Flatten())\n",
    "model_in.add(Dense(64,activation=\"relu\"))\n",
    "model_in.add(Dense(4, activation=\"softmax\"))"
   ]
  },
  {
   "cell_type": "code",
   "execution_count": 355,
   "id": "e6fee37a",
   "metadata": {},
   "outputs": [],
   "source": [
    "model_in.compile(optimizer='adam', loss='categorical_crossentropy', metrics=['accuracy'])"
   ]
  },
  {
   "cell_type": "code",
   "execution_count": 356,
   "id": "b9dc7077",
   "metadata": {},
   "outputs": [
    {
     "ename": "InternalError",
     "evalue": "Failed copying input tensor from /job:localhost/replica:0/task:0/device:CPU:0 to /job:localhost/replica:0/task:0/device:GPU:0 in order to run _EagerConst: Dst tensor is not initialized.",
     "output_type": "error",
     "traceback": [
      "\u001b[1;31m---------------------------------------------------------------------------\u001b[0m",
      "\u001b[1;31mInternalError\u001b[0m                             Traceback (most recent call last)",
      "Input \u001b[1;32mIn [356]\u001b[0m, in \u001b[0;36m<cell line: 1>\u001b[1;34m()\u001b[0m\n\u001b[1;32m----> 1\u001b[0m history \u001b[38;5;241m=\u001b[39m \u001b[43mmodel_in\u001b[49m\u001b[38;5;241;43m.\u001b[39;49m\u001b[43mfit\u001b[49m\u001b[43m(\u001b[49m\u001b[43mX_train_data\u001b[49m\u001b[43m,\u001b[49m\u001b[43m \u001b[49m\u001b[43my_train\u001b[49m\u001b[43m,\u001b[49m\u001b[43m \u001b[49m\u001b[43mvalidation_data\u001b[49m\u001b[38;5;241;43m=\u001b[39;49m\u001b[43m(\u001b[49m\u001b[43mX_val_data\u001b[49m\u001b[43m,\u001b[49m\u001b[43m \u001b[49m\u001b[43my_val\u001b[49m\u001b[43m)\u001b[49m\u001b[43m,\u001b[49m\u001b[43m \u001b[49m\u001b[43mepochs\u001b[49m\u001b[38;5;241;43m=\u001b[39;49m\u001b[38;5;241;43m1\u001b[39;49m\u001b[43m)\u001b[49m\n",
      "File \u001b[1;32m~\\anaconda3\\envs\\swa-dev\\lib\\site-packages\\keras\\utils\\traceback_utils.py:67\u001b[0m, in \u001b[0;36mfilter_traceback.<locals>.error_handler\u001b[1;34m(*args, **kwargs)\u001b[0m\n\u001b[0;32m     65\u001b[0m \u001b[38;5;28;01mexcept\u001b[39;00m \u001b[38;5;167;01mException\u001b[39;00m \u001b[38;5;28;01mas\u001b[39;00m e:  \u001b[38;5;66;03m# pylint: disable=broad-except\u001b[39;00m\n\u001b[0;32m     66\u001b[0m   filtered_tb \u001b[38;5;241m=\u001b[39m _process_traceback_frames(e\u001b[38;5;241m.\u001b[39m__traceback__)\n\u001b[1;32m---> 67\u001b[0m   \u001b[38;5;28;01mraise\u001b[39;00m e\u001b[38;5;241m.\u001b[39mwith_traceback(filtered_tb) \u001b[38;5;28;01mfrom\u001b[39;00m \u001b[38;5;28mNone\u001b[39m\n\u001b[0;32m     68\u001b[0m \u001b[38;5;28;01mfinally\u001b[39;00m:\n\u001b[0;32m     69\u001b[0m   \u001b[38;5;28;01mdel\u001b[39;00m filtered_tb\n",
      "File \u001b[1;32m~\\anaconda3\\envs\\swa-dev\\lib\\site-packages\\tensorflow\\python\\framework\\constant_op.py:102\u001b[0m, in \u001b[0;36mconvert_to_eager_tensor\u001b[1;34m(value, ctx, dtype)\u001b[0m\n\u001b[0;32m    100\u001b[0m     dtype \u001b[38;5;241m=\u001b[39m dtypes\u001b[38;5;241m.\u001b[39mas_dtype(dtype)\u001b[38;5;241m.\u001b[39mas_datatype_enum\n\u001b[0;32m    101\u001b[0m ctx\u001b[38;5;241m.\u001b[39mensure_initialized()\n\u001b[1;32m--> 102\u001b[0m \u001b[38;5;28;01mreturn\u001b[39;00m \u001b[43mops\u001b[49m\u001b[38;5;241;43m.\u001b[39;49m\u001b[43mEagerTensor\u001b[49m\u001b[43m(\u001b[49m\u001b[43mvalue\u001b[49m\u001b[43m,\u001b[49m\u001b[43m \u001b[49m\u001b[43mctx\u001b[49m\u001b[38;5;241;43m.\u001b[39;49m\u001b[43mdevice_name\u001b[49m\u001b[43m,\u001b[49m\u001b[43m \u001b[49m\u001b[43mdtype\u001b[49m\u001b[43m)\u001b[49m\n",
      "\u001b[1;31mInternalError\u001b[0m: Failed copying input tensor from /job:localhost/replica:0/task:0/device:CPU:0 to /job:localhost/replica:0/task:0/device:GPU:0 in order to run _EagerConst: Dst tensor is not initialized."
     ]
    }
   ],
   "source": [
    "history = model_in.fit(X_train_data, y_train, validation_data=(X_val_data, y_val), epochs=1)"
   ]
  }
 ],
 "metadata": {
  "kernelspec": {
   "display_name": "Python 3 (ipykernel)",
   "language": "python",
   "name": "python3"
  },
  "language_info": {
   "codemirror_mode": {
    "name": "ipython",
    "version": 3
   },
   "file_extension": ".py",
   "mimetype": "text/x-python",
   "name": "python",
   "nbconvert_exporter": "python",
   "pygments_lexer": "ipython3",
   "version": "3.8.12"
  }
 },
 "nbformat": 4,
 "nbformat_minor": 5
}
