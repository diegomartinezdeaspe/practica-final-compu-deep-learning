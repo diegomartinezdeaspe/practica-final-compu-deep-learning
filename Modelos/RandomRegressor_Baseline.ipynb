{
 "cells": [
  {
   "cell_type": "code",
   "execution_count": 1,
   "id": "fbdb3de1",
   "metadata": {},
   "outputs": [],
   "source": [
    "import pandas as pd\n",
    "import numpy as np\n",
    "import tensorflow as tf\n",
    "import matplotlib.pyplot as plt\n",
    "from sklearn.model_selection import train_test_split, RandomizedSearchCV\n",
    "from sklearn.ensemble import RandomForestRegressor\n",
    "from sklearn import metrics\n",
    "import joblib"
   ]
  },
  {
   "cell_type": "code",
   "execution_count": 2,
   "id": "a068ba06",
   "metadata": {},
   "outputs": [
    {
     "data": {
      "text/html": [
       "<div>\n",
       "<style scoped>\n",
       "    .dataframe tbody tr th:only-of-type {\n",
       "        vertical-align: middle;\n",
       "    }\n",
       "\n",
       "    .dataframe tbody tr th {\n",
       "        vertical-align: top;\n",
       "    }\n",
       "\n",
       "    .dataframe thead th {\n",
       "        text-align: right;\n",
       "    }\n",
       "</style>\n",
       "<table border=\"1\" class=\"dataframe\">\n",
       "  <thead>\n",
       "    <tr style=\"text-align: right;\">\n",
       "      <th></th>\n",
       "      <th>host_is_superhost</th>\n",
       "      <th>host_identity_verified</th>\n",
       "      <th>neighbourhood_group_cleansed</th>\n",
       "      <th>room_type</th>\n",
       "      <th>bedrooms</th>\n",
       "      <th>beds</th>\n",
       "      <th>price</th>\n",
       "      <th>availability_365</th>\n",
       "      <th>number_of_reviews</th>\n",
       "      <th>calculated_host_listings_count</th>\n",
       "      <th>reviews_per_month</th>\n",
       "      <th>bathrooms</th>\n",
       "    </tr>\n",
       "  </thead>\n",
       "  <tbody>\n",
       "    <tr>\n",
       "      <th>0</th>\n",
       "      <td>1</td>\n",
       "      <td>1</td>\n",
       "      <td>Chamartín</td>\n",
       "      <td>Private room</td>\n",
       "      <td>1.0</td>\n",
       "      <td>1.0</td>\n",
       "      <td>60.0</td>\n",
       "      <td>180</td>\n",
       "      <td>78</td>\n",
       "      <td>1</td>\n",
       "      <td>0.58</td>\n",
       "      <td>1.0</td>\n",
       "    </tr>\n",
       "    <tr>\n",
       "      <th>1</th>\n",
       "      <td>0</td>\n",
       "      <td>1</td>\n",
       "      <td>Latina</td>\n",
       "      <td>Private room</td>\n",
       "      <td>1.0</td>\n",
       "      <td>1.0</td>\n",
       "      <td>31.0</td>\n",
       "      <td>364</td>\n",
       "      <td>33</td>\n",
       "      <td>2</td>\n",
       "      <td>0.42</td>\n",
       "      <td>1.0</td>\n",
       "    </tr>\n",
       "    <tr>\n",
       "      <th>2</th>\n",
       "      <td>0</td>\n",
       "      <td>1</td>\n",
       "      <td>Arganzuela</td>\n",
       "      <td>Private room</td>\n",
       "      <td>1.0</td>\n",
       "      <td>1.0</td>\n",
       "      <td>26.0</td>\n",
       "      <td>365</td>\n",
       "      <td>149</td>\n",
       "      <td>1</td>\n",
       "      <td>1.12</td>\n",
       "      <td>1.0</td>\n",
       "    </tr>\n",
       "    <tr>\n",
       "      <th>3</th>\n",
       "      <td>0</td>\n",
       "      <td>0</td>\n",
       "      <td>Centro</td>\n",
       "      <td>Entire home/apt</td>\n",
       "      <td>1.0</td>\n",
       "      <td>2.0</td>\n",
       "      <td>65.0</td>\n",
       "      <td>351</td>\n",
       "      <td>170</td>\n",
       "      <td>3</td>\n",
       "      <td>1.29</td>\n",
       "      <td>1.0</td>\n",
       "    </tr>\n",
       "    <tr>\n",
       "      <th>4</th>\n",
       "      <td>0</td>\n",
       "      <td>0</td>\n",
       "      <td>Centro</td>\n",
       "      <td>Entire home/apt</td>\n",
       "      <td>1.0</td>\n",
       "      <td>1.0</td>\n",
       "      <td>54.0</td>\n",
       "      <td>0</td>\n",
       "      <td>8</td>\n",
       "      <td>1</td>\n",
       "      <td>0.11</td>\n",
       "      <td>1.0</td>\n",
       "    </tr>\n",
       "    <tr>\n",
       "      <th>...</th>\n",
       "      <td>...</td>\n",
       "      <td>...</td>\n",
       "      <td>...</td>\n",
       "      <td>...</td>\n",
       "      <td>...</td>\n",
       "      <td>...</td>\n",
       "      <td>...</td>\n",
       "      <td>...</td>\n",
       "      <td>...</td>\n",
       "      <td>...</td>\n",
       "      <td>...</td>\n",
       "      <td>...</td>\n",
       "    </tr>\n",
       "    <tr>\n",
       "      <th>11535</th>\n",
       "      <td>0</td>\n",
       "      <td>1</td>\n",
       "      <td>Tetuán</td>\n",
       "      <td>Entire home/apt</td>\n",
       "      <td>3.0</td>\n",
       "      <td>4.0</td>\n",
       "      <td>62.0</td>\n",
       "      <td>360</td>\n",
       "      <td>1</td>\n",
       "      <td>38</td>\n",
       "      <td>1.00</td>\n",
       "      <td>1.5</td>\n",
       "    </tr>\n",
       "    <tr>\n",
       "      <th>11536</th>\n",
       "      <td>0</td>\n",
       "      <td>0</td>\n",
       "      <td>Centro</td>\n",
       "      <td>Private room</td>\n",
       "      <td>1.0</td>\n",
       "      <td>2.0</td>\n",
       "      <td>60.0</td>\n",
       "      <td>158</td>\n",
       "      <td>2</td>\n",
       "      <td>6</td>\n",
       "      <td>2.00</td>\n",
       "      <td>1.0</td>\n",
       "    </tr>\n",
       "    <tr>\n",
       "      <th>11537</th>\n",
       "      <td>0</td>\n",
       "      <td>0</td>\n",
       "      <td>Tetuán</td>\n",
       "      <td>Private room</td>\n",
       "      <td>1.0</td>\n",
       "      <td>1.0</td>\n",
       "      <td>25.0</td>\n",
       "      <td>175</td>\n",
       "      <td>1</td>\n",
       "      <td>1</td>\n",
       "      <td>1.00</td>\n",
       "      <td>1.0</td>\n",
       "    </tr>\n",
       "    <tr>\n",
       "      <th>11538</th>\n",
       "      <td>0</td>\n",
       "      <td>1</td>\n",
       "      <td>Centro</td>\n",
       "      <td>Entire home/apt</td>\n",
       "      <td>1.0</td>\n",
       "      <td>1.0</td>\n",
       "      <td>44.0</td>\n",
       "      <td>331</td>\n",
       "      <td>1</td>\n",
       "      <td>2</td>\n",
       "      <td>1.00</td>\n",
       "      <td>1.0</td>\n",
       "    </tr>\n",
       "    <tr>\n",
       "      <th>11539</th>\n",
       "      <td>0</td>\n",
       "      <td>0</td>\n",
       "      <td>Ciudad Lineal</td>\n",
       "      <td>Entire home/apt</td>\n",
       "      <td>2.0</td>\n",
       "      <td>2.0</td>\n",
       "      <td>70.0</td>\n",
       "      <td>89</td>\n",
       "      <td>1</td>\n",
       "      <td>1</td>\n",
       "      <td>1.00</td>\n",
       "      <td>2.0</td>\n",
       "    </tr>\n",
       "  </tbody>\n",
       "</table>\n",
       "<p>11540 rows × 12 columns</p>\n",
       "</div>"
      ],
      "text/plain": [
       "       host_is_superhost  host_identity_verified neighbourhood_group_cleansed  \\\n",
       "0                      1                       1                    Chamartín   \n",
       "1                      0                       1                       Latina   \n",
       "2                      0                       1                   Arganzuela   \n",
       "3                      0                       0                       Centro   \n",
       "4                      0                       0                       Centro   \n",
       "...                  ...                     ...                          ...   \n",
       "11535                  0                       1                       Tetuán   \n",
       "11536                  0                       0                       Centro   \n",
       "11537                  0                       0                       Tetuán   \n",
       "11538                  0                       1                       Centro   \n",
       "11539                  0                       0                Ciudad Lineal   \n",
       "\n",
       "             room_type  bedrooms  beds  price  availability_365  \\\n",
       "0         Private room       1.0   1.0   60.0               180   \n",
       "1         Private room       1.0   1.0   31.0               364   \n",
       "2         Private room       1.0   1.0   26.0               365   \n",
       "3      Entire home/apt       1.0   2.0   65.0               351   \n",
       "4      Entire home/apt       1.0   1.0   54.0                 0   \n",
       "...                ...       ...   ...    ...               ...   \n",
       "11535  Entire home/apt       3.0   4.0   62.0               360   \n",
       "11536     Private room       1.0   2.0   60.0               158   \n",
       "11537     Private room       1.0   1.0   25.0               175   \n",
       "11538  Entire home/apt       1.0   1.0   44.0               331   \n",
       "11539  Entire home/apt       2.0   2.0   70.0                89   \n",
       "\n",
       "       number_of_reviews  calculated_host_listings_count  reviews_per_month  \\\n",
       "0                     78                               1               0.58   \n",
       "1                     33                               2               0.42   \n",
       "2                    149                               1               1.12   \n",
       "3                    170                               3               1.29   \n",
       "4                      8                               1               0.11   \n",
       "...                  ...                             ...                ...   \n",
       "11535                  1                              38               1.00   \n",
       "11536                  2                               6               2.00   \n",
       "11537                  1                               1               1.00   \n",
       "11538                  1                               2               1.00   \n",
       "11539                  1                               1               1.00   \n",
       "\n",
       "      bathrooms  \n",
       "0           1.0  \n",
       "1           1.0  \n",
       "2           1.0  \n",
       "3           1.0  \n",
       "4           1.0  \n",
       "...         ...  \n",
       "11535       1.5  \n",
       "11536       1.0  \n",
       "11537       1.0  \n",
       "11538       1.0  \n",
       "11539       2.0  \n",
       "\n",
       "[11540 rows x 12 columns]"
      ]
     },
     "execution_count": 2,
     "metadata": {},
     "output_type": "execute_result"
    }
   ],
   "source": [
    "df = pd.read_csv('../AirbnbData/CleanData/df_modelo_limpio.csv')\n",
    "df = df.drop(columns = (['Unnamed: 0', 'id', 'neighbourhood_cleansed', 'property_type', 'puntuacion_media']))\n",
    "df"
   ]
  },
  {
   "cell_type": "code",
   "execution_count": 3,
   "id": "3b51d467",
   "metadata": {},
   "outputs": [],
   "source": [
    "df['bathrooms'] = df['bathrooms'].apply(lambda x: float(x))"
   ]
  },
  {
   "cell_type": "code",
   "execution_count": 4,
   "id": "785d51e1",
   "metadata": {},
   "outputs": [],
   "source": [
    "df = df.dropna()"
   ]
  },
  {
   "cell_type": "code",
   "execution_count": 5,
   "id": "ae7bcfc5",
   "metadata": {},
   "outputs": [
    {
     "data": {
      "text/plain": [
       "host_is_superhost                   int64\n",
       "host_identity_verified              int64\n",
       "neighbourhood_group_cleansed       object\n",
       "room_type                          object\n",
       "bedrooms                          float64\n",
       "beds                              float64\n",
       "price                             float64\n",
       "availability_365                    int64\n",
       "number_of_reviews                   int64\n",
       "calculated_host_listings_count      int64\n",
       "reviews_per_month                 float64\n",
       "bathrooms                         float64\n",
       "dtype: object"
      ]
     },
     "execution_count": 5,
     "metadata": {},
     "output_type": "execute_result"
    }
   ],
   "source": [
    "df.dtypes"
   ]
  },
  {
   "cell_type": "markdown",
   "id": "d600ef93",
   "metadata": {},
   "source": [
    "### Datos"
   ]
  },
  {
   "cell_type": "code",
   "execution_count": 6,
   "id": "e7736e3e",
   "metadata": {},
   "outputs": [],
   "source": [
    "X = df.drop(columns = (['price']))"
   ]
  },
  {
   "cell_type": "code",
   "execution_count": 7,
   "id": "6c9df847",
   "metadata": {},
   "outputs": [],
   "source": [
    "X_enc = pd.get_dummies(X)"
   ]
  },
  {
   "cell_type": "code",
   "execution_count": 8,
   "id": "d60ded44",
   "metadata": {},
   "outputs": [
    {
     "data": {
      "text/plain": [
       "host_is_superhost                                     0\n",
       "host_identity_verified                                0\n",
       "bedrooms                                              0\n",
       "beds                                                  0\n",
       "availability_365                                      0\n",
       "number_of_reviews                                     0\n",
       "calculated_host_listings_count                        0\n",
       "reviews_per_month                                     0\n",
       "bathrooms                                             0\n",
       "neighbourhood_group_cleansed_Arganzuela               0\n",
       "neighbourhood_group_cleansed_Barajas                  0\n",
       "neighbourhood_group_cleansed_Carabanchel              0\n",
       "neighbourhood_group_cleansed_Centro                   0\n",
       "neighbourhood_group_cleansed_Chamartín                0\n",
       "neighbourhood_group_cleansed_Chamberí                 0\n",
       "neighbourhood_group_cleansed_Ciudad Lineal            0\n",
       "neighbourhood_group_cleansed_Fuencarral - El Pardo    0\n",
       "neighbourhood_group_cleansed_Hortaleza                0\n",
       "neighbourhood_group_cleansed_Latina                   0\n",
       "neighbourhood_group_cleansed_Moncloa - Aravaca        0\n",
       "neighbourhood_group_cleansed_Moratalaz                0\n",
       "neighbourhood_group_cleansed_Puente de Vallecas       0\n",
       "neighbourhood_group_cleansed_Retiro                   0\n",
       "neighbourhood_group_cleansed_Salamanca                0\n",
       "neighbourhood_group_cleansed_San Blas - Canillejas    0\n",
       "neighbourhood_group_cleansed_Tetuán                   0\n",
       "neighbourhood_group_cleansed_Usera                    0\n",
       "neighbourhood_group_cleansed_Vicálvaro                0\n",
       "neighbourhood_group_cleansed_Villa de Vallecas        0\n",
       "neighbourhood_group_cleansed_Villaverde               0\n",
       "room_type_Entire home/apt                             0\n",
       "room_type_Hotel room                                  0\n",
       "room_type_Private room                                0\n",
       "room_type_Shared room                                 0\n",
       "dtype: int64"
      ]
     },
     "execution_count": 8,
     "metadata": {},
     "output_type": "execute_result"
    }
   ],
   "source": [
    "X_enc.isna().sum()"
   ]
  },
  {
   "cell_type": "code",
   "execution_count": 9,
   "id": "2c871d0e",
   "metadata": {},
   "outputs": [],
   "source": [
    "y = df['price']"
   ]
  },
  {
   "cell_type": "code",
   "execution_count": 10,
   "id": "f6362ba6",
   "metadata": {},
   "outputs": [],
   "source": [
    "X_train, X_test, y_train, y_test = train_test_split(X_enc, y, test_size=0.25, random_state=123)"
   ]
  },
  {
   "cell_type": "markdown",
   "id": "e6518d89",
   "metadata": {},
   "source": [
    "### Modelo Inicial"
   ]
  },
  {
   "cell_type": "code",
   "execution_count": 12,
   "id": "725d65dd",
   "metadata": {},
   "outputs": [],
   "source": [
    "model = RandomForestRegressor()"
   ]
  },
  {
   "cell_type": "code",
   "execution_count": 13,
   "id": "5574c527",
   "metadata": {},
   "outputs": [],
   "source": [
    "n_estimators = [int(x) for x in np.linspace(start = 500, stop = 2000, num = 25)]\n",
    "max_features = ['auto', 'sqrt', 'log2']\n",
    "max_depth = [int(x) for x in np.linspace(50, 130, num = 15)]\n",
    "min_samples_split = [2, 5, 10]\n",
    "min_samples_leaf = [1, 2, 4]\n",
    "bootstrap = [True, False]\n",
    "\n",
    "params = {'n_estimators': n_estimators,\n",
    "               'max_features': max_features,\n",
    "               'max_depth': max_depth,\n",
    "               'min_samples_split': min_samples_split,\n",
    "               'min_samples_leaf': min_samples_leaf,\n",
    "               'bootstrap': bootstrap}"
   ]
  },
  {
   "cell_type": "code",
   "execution_count": 14,
   "id": "38a99c75",
   "metadata": {},
   "outputs": [],
   "source": [
    "random_cv = RandomizedSearchCV(model, params, cv=10, n_iter = 20)"
   ]
  },
  {
   "cell_type": "code",
   "execution_count": 15,
   "id": "c5e61767",
   "metadata": {},
   "outputs": [
    {
     "data": {
      "text/plain": [
       "RandomizedSearchCV(cv=10, estimator=RandomForestRegressor(), n_iter=20,\n",
       "                   param_distributions={'bootstrap': [True, False],\n",
       "                                        'max_depth': [50, 55, 61, 67, 72, 78,\n",
       "                                                      84, 90, 95, 101, 107, 112,\n",
       "                                                      118, 124, 130],\n",
       "                                        'max_features': ['auto', 'sqrt',\n",
       "                                                         'log2'],\n",
       "                                        'min_samples_leaf': [1, 2, 4],\n",
       "                                        'min_samples_split': [2, 5, 10],\n",
       "                                        'n_estimators': [500, 562, 625, 687,\n",
       "                                                         750, 812, 875, 937,\n",
       "                                                         1000, 1062, 1125, 1187,\n",
       "                                                         1250, 1312, 1375, 1437,\n",
       "                                                         1500, 1562, 1625, 1687,\n",
       "                                                         1750, 1812, 1875, 1937,\n",
       "                                                         2000]})"
      ]
     },
     "execution_count": 15,
     "metadata": {},
     "output_type": "execute_result"
    }
   ],
   "source": [
    "random_cv.fit(X_train, y_train)"
   ]
  },
  {
   "cell_type": "code",
   "execution_count": 16,
   "id": "a557723c",
   "metadata": {},
   "outputs": [],
   "source": [
    "predictions = random_cv.best_estimator_.predict(X_test)"
   ]
  },
  {
   "cell_type": "code",
   "execution_count": 17,
   "id": "eb32c49c",
   "metadata": {},
   "outputs": [
    {
     "name": "stdout",
     "output_type": "stream",
     "text": [
      "MAE: 19.043685475346017\n",
      "MSE: 756.3915526522962\n",
      "RMSE: 27.502573564164795\n",
      "R2: 0.5692405053499139\n"
     ]
    }
   ],
   "source": [
    "#Mean Absolute Error \n",
    "print('MAE:', metrics.mean_absolute_error(y_test, predictions))\n",
    "\n",
    "#Mean Squared Error\n",
    "print('MSE:', metrics.mean_squared_error(y_test, predictions))\n",
    "\n",
    "#Root Mean Squared Error\n",
    "print('RMSE:', np.sqrt(metrics.mean_squared_error(y_test, predictions)))\n",
    "\n",
    "#R2\n",
    "print('R2:', metrics.r2_score(y_test, predictions))"
   ]
  },
  {
   "cell_type": "code",
   "execution_count": 18,
   "id": "540b26d6",
   "metadata": {},
   "outputs": [
    {
     "data": {
      "text/plain": [
       "{'bootstrap': False,\n",
       " 'ccp_alpha': 0.0,\n",
       " 'criterion': 'squared_error',\n",
       " 'max_depth': 55,\n",
       " 'max_features': 'sqrt',\n",
       " 'max_leaf_nodes': None,\n",
       " 'max_samples': None,\n",
       " 'min_impurity_decrease': 0.0,\n",
       " 'min_samples_leaf': 2,\n",
       " 'min_samples_split': 2,\n",
       " 'min_weight_fraction_leaf': 0.0,\n",
       " 'n_estimators': 1312,\n",
       " 'n_jobs': None,\n",
       " 'oob_score': False,\n",
       " 'random_state': None,\n",
       " 'verbose': 0,\n",
       " 'warm_start': False}"
      ]
     },
     "execution_count": 18,
     "metadata": {},
     "output_type": "execute_result"
    }
   ],
   "source": [
    "random_cv.best_estimator_.get_params()"
   ]
  },
  {
   "cell_type": "code",
   "execution_count": 21,
   "id": "a66cdb7c",
   "metadata": {},
   "outputs": [
    {
     "data": {
      "text/plain": [
       "['modelo_RF_baseline.pkl']"
      ]
     },
     "execution_count": 21,
     "metadata": {},
     "output_type": "execute_result"
    }
   ],
   "source": [
    "joblib_file = \"modelo_RF_baseline.pkl\"  \n",
    "joblib.dump(random_cv, joblib_file)"
   ]
  },
  {
   "cell_type": "markdown",
   "id": "d5041eaa",
   "metadata": {},
   "source": [
    "#### Normalizando Datos"
   ]
  },
  {
   "cell_type": "code",
   "execution_count": 12,
   "id": "07476a64",
   "metadata": {},
   "outputs": [],
   "source": [
    "CONT_COLUMNS = ['bedrooms', 'beds', 'availability_365', 'number_of_reviews', 'calculated_host_listings_count', 'reviews_per_month', 'bathrooms']"
   ]
  },
  {
   "cell_type": "code",
   "execution_count": 13,
   "id": "6e8e96e9",
   "metadata": {},
   "outputs": [],
   "source": [
    "X_enc[CONT_COLUMNS] = (X_enc[CONT_COLUMNS]-X_enc[CONT_COLUMNS].mean())/X_enc[CONT_COLUMNS].std() "
   ]
  },
  {
   "cell_type": "code",
   "execution_count": 15,
   "id": "7afe5694",
   "metadata": {},
   "outputs": [],
   "source": [
    "X_train_norm, X_test_norm, y_train_norm, y_test_norm = train_test_split(X_enc, y, test_size=0.2, random_state=123)"
   ]
  },
  {
   "cell_type": "code",
   "execution_count": 16,
   "id": "e1aa18b3",
   "metadata": {},
   "outputs": [],
   "source": [
    "model = RandomForestRegressor()"
   ]
  },
  {
   "cell_type": "code",
   "execution_count": 17,
   "id": "fb5ce3f3",
   "metadata": {},
   "outputs": [],
   "source": [
    "n_estimators = [int(x) for x in np.linspace(start = 500, stop = 2000, num = 25)]\n",
    "max_features = ['auto', 'sqrt', 'log2']\n",
    "max_depth = [int(x) for x in np.linspace(50, 130, num = 15)]\n",
    "min_samples_split = [2, 5, 10]\n",
    "min_samples_leaf = [1, 2, 4]\n",
    "bootstrap = [True, False]\n",
    "\n",
    "params = {'n_estimators': n_estimators,\n",
    "               'max_features': max_features,\n",
    "               'max_depth': max_depth,\n",
    "               'min_samples_split': min_samples_split,\n",
    "               'min_samples_leaf': min_samples_leaf,\n",
    "               'bootstrap': bootstrap}"
   ]
  },
  {
   "cell_type": "code",
   "execution_count": 18,
   "id": "91e491b0",
   "metadata": {},
   "outputs": [],
   "source": [
    "random_cv = RandomizedSearchCV(model, params, cv=10, n_iter = 10)"
   ]
  },
  {
   "cell_type": "code",
   "execution_count": 20,
   "id": "88058023",
   "metadata": {},
   "outputs": [
    {
     "data": {
      "text/plain": [
       "RandomizedSearchCV(cv=10, estimator=RandomForestRegressor(),\n",
       "                   param_distributions={'bootstrap': [True, False],\n",
       "                                        'max_depth': [50, 55, 61, 67, 72, 78,\n",
       "                                                      84, 90, 95, 101, 107, 112,\n",
       "                                                      118, 124, 130],\n",
       "                                        'max_features': ['auto', 'sqrt',\n",
       "                                                         'log2'],\n",
       "                                        'min_samples_leaf': [1, 2, 4],\n",
       "                                        'min_samples_split': [2, 5, 10],\n",
       "                                        'n_estimators': [500, 562, 625, 687,\n",
       "                                                         750, 812, 875, 937,\n",
       "                                                         1000, 1062, 1125, 1187,\n",
       "                                                         1250, 1312, 1375, 1437,\n",
       "                                                         1500, 1562, 1625, 1687,\n",
       "                                                         1750, 1812, 1875, 1937,\n",
       "                                                         2000]})"
      ]
     },
     "execution_count": 20,
     "metadata": {},
     "output_type": "execute_result"
    }
   ],
   "source": [
    "random_cv.fit(X_train_norm, y_train_norm)"
   ]
  },
  {
   "cell_type": "code",
   "execution_count": 21,
   "id": "d94d5364",
   "metadata": {},
   "outputs": [
    {
     "data": {
      "text/plain": [
       "{'bootstrap': True,\n",
       " 'ccp_alpha': 0.0,\n",
       " 'criterion': 'squared_error',\n",
       " 'max_depth': 50,\n",
       " 'max_features': 'log2',\n",
       " 'max_leaf_nodes': None,\n",
       " 'max_samples': None,\n",
       " 'min_impurity_decrease': 0.0,\n",
       " 'min_samples_leaf': 1,\n",
       " 'min_samples_split': 10,\n",
       " 'min_weight_fraction_leaf': 0.0,\n",
       " 'n_estimators': 1625,\n",
       " 'n_jobs': None,\n",
       " 'oob_score': False,\n",
       " 'random_state': None,\n",
       " 'verbose': 0,\n",
       " 'warm_start': False}"
      ]
     },
     "execution_count": 21,
     "metadata": {},
     "output_type": "execute_result"
    }
   ],
   "source": [
    "random_cv.best_estimator_.get_params()"
   ]
  },
  {
   "cell_type": "code",
   "execution_count": 22,
   "id": "78af9c96",
   "metadata": {},
   "outputs": [],
   "source": [
    "predictions_norm = random_cv.best_estimator_.predict(X_test_norm)"
   ]
  },
  {
   "cell_type": "code",
   "execution_count": 23,
   "id": "ee740eae",
   "metadata": {},
   "outputs": [
    {
     "name": "stdout",
     "output_type": "stream",
     "text": [
      "MAE: 19.137284555237088\n",
      "MSE: 765.8269425421662\n",
      "RMSE: 27.673578419535232\n",
      "R2: 0.5634611372962846\n"
     ]
    }
   ],
   "source": [
    "#Mean Absolute Error \n",
    "print('MAE:', metrics.mean_absolute_error(y_test_norm, predictions_norm))\n",
    "\n",
    "#Mean Squared Error\n",
    "print('MSE:', metrics.mean_squared_error(y_test_norm, predictions_norm))\n",
    "\n",
    "#Root Mean Squared Error\n",
    "print('RMSE:', np.sqrt(metrics.mean_squared_error(y_test_norm, predictions_norm)))\n",
    "\n",
    "#R2\n",
    "print('R2:', metrics.r2_score(y_test_norm, predictions_norm))"
   ]
  }
 ],
 "metadata": {
  "kernelspec": {
   "display_name": "Python 3 (ipykernel)",
   "language": "python",
   "name": "python3"
  },
  "language_info": {
   "codemirror_mode": {
    "name": "ipython",
    "version": 3
   },
   "file_extension": ".py",
   "mimetype": "text/x-python",
   "name": "python",
   "nbconvert_exporter": "python",
   "pygments_lexer": "ipython3",
   "version": "3.8.12"
  }
 },
 "nbformat": 4,
 "nbformat_minor": 5
}
