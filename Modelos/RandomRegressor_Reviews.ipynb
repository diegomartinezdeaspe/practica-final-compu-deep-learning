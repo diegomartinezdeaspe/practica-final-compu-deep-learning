{
 "cells": [
  {
   "cell_type": "code",
   "execution_count": 20,
   "id": "fbdb3de1",
   "metadata": {},
   "outputs": [],
   "source": [
    "import pandas as pd\n",
    "import numpy as np\n",
    "import tensorflow as tf\n",
    "import matplotlib.pyplot as plt\n",
    "from sklearn.model_selection import train_test_split, RandomizedSearchCV\n",
    "from sklearn.ensemble import RandomForestRegressor\n",
    "from sklearn import metrics\n",
    "import joblib"
   ]
  },
  {
   "cell_type": "code",
   "execution_count": 3,
   "id": "a068ba06",
   "metadata": {},
   "outputs": [
    {
     "data": {
      "text/html": [
       "<div>\n",
       "<style scoped>\n",
       "    .dataframe tbody tr th:only-of-type {\n",
       "        vertical-align: middle;\n",
       "    }\n",
       "\n",
       "    .dataframe tbody tr th {\n",
       "        vertical-align: top;\n",
       "    }\n",
       "\n",
       "    .dataframe thead th {\n",
       "        text-align: right;\n",
       "    }\n",
       "</style>\n",
       "<table border=\"1\" class=\"dataframe\">\n",
       "  <thead>\n",
       "    <tr style=\"text-align: right;\">\n",
       "      <th></th>\n",
       "      <th>host_is_superhost</th>\n",
       "      <th>host_identity_verified</th>\n",
       "      <th>neighbourhood_group_cleansed</th>\n",
       "      <th>room_type</th>\n",
       "      <th>bedrooms</th>\n",
       "      <th>beds</th>\n",
       "      <th>price</th>\n",
       "      <th>availability_365</th>\n",
       "      <th>number_of_reviews</th>\n",
       "      <th>calculated_host_listings_count</th>\n",
       "      <th>reviews_per_month</th>\n",
       "      <th>bathrooms</th>\n",
       "      <th>puntuacion_media</th>\n",
       "    </tr>\n",
       "  </thead>\n",
       "  <tbody>\n",
       "    <tr>\n",
       "      <th>0</th>\n",
       "      <td>1</td>\n",
       "      <td>1</td>\n",
       "      <td>Chamartín</td>\n",
       "      <td>Private room</td>\n",
       "      <td>1.0</td>\n",
       "      <td>1.0</td>\n",
       "      <td>60.0</td>\n",
       "      <td>180</td>\n",
       "      <td>78</td>\n",
       "      <td>1</td>\n",
       "      <td>0.58</td>\n",
       "      <td>1.0</td>\n",
       "      <td>4.583333</td>\n",
       "    </tr>\n",
       "    <tr>\n",
       "      <th>1</th>\n",
       "      <td>0</td>\n",
       "      <td>1</td>\n",
       "      <td>Latina</td>\n",
       "      <td>Private room</td>\n",
       "      <td>1.0</td>\n",
       "      <td>1.0</td>\n",
       "      <td>31.0</td>\n",
       "      <td>364</td>\n",
       "      <td>33</td>\n",
       "      <td>2</td>\n",
       "      <td>0.42</td>\n",
       "      <td>1.0</td>\n",
       "      <td>4.653846</td>\n",
       "    </tr>\n",
       "    <tr>\n",
       "      <th>2</th>\n",
       "      <td>0</td>\n",
       "      <td>1</td>\n",
       "      <td>Arganzuela</td>\n",
       "      <td>Private room</td>\n",
       "      <td>1.0</td>\n",
       "      <td>1.0</td>\n",
       "      <td>26.0</td>\n",
       "      <td>365</td>\n",
       "      <td>149</td>\n",
       "      <td>1</td>\n",
       "      <td>1.12</td>\n",
       "      <td>1.0</td>\n",
       "      <td>4.612613</td>\n",
       "    </tr>\n",
       "    <tr>\n",
       "      <th>3</th>\n",
       "      <td>0</td>\n",
       "      <td>0</td>\n",
       "      <td>Centro</td>\n",
       "      <td>Entire home/apt</td>\n",
       "      <td>1.0</td>\n",
       "      <td>2.0</td>\n",
       "      <td>65.0</td>\n",
       "      <td>351</td>\n",
       "      <td>170</td>\n",
       "      <td>3</td>\n",
       "      <td>1.29</td>\n",
       "      <td>1.0</td>\n",
       "      <td>4.596774</td>\n",
       "    </tr>\n",
       "    <tr>\n",
       "      <th>4</th>\n",
       "      <td>0</td>\n",
       "      <td>0</td>\n",
       "      <td>Centro</td>\n",
       "      <td>Entire home/apt</td>\n",
       "      <td>1.0</td>\n",
       "      <td>1.0</td>\n",
       "      <td>54.0</td>\n",
       "      <td>0</td>\n",
       "      <td>8</td>\n",
       "      <td>1</td>\n",
       "      <td>0.11</td>\n",
       "      <td>1.0</td>\n",
       "      <td>4.571429</td>\n",
       "    </tr>\n",
       "    <tr>\n",
       "      <th>...</th>\n",
       "      <td>...</td>\n",
       "      <td>...</td>\n",
       "      <td>...</td>\n",
       "      <td>...</td>\n",
       "      <td>...</td>\n",
       "      <td>...</td>\n",
       "      <td>...</td>\n",
       "      <td>...</td>\n",
       "      <td>...</td>\n",
       "      <td>...</td>\n",
       "      <td>...</td>\n",
       "      <td>...</td>\n",
       "      <td>...</td>\n",
       "    </tr>\n",
       "    <tr>\n",
       "      <th>11535</th>\n",
       "      <td>0</td>\n",
       "      <td>1</td>\n",
       "      <td>Tetuán</td>\n",
       "      <td>Entire home/apt</td>\n",
       "      <td>3.0</td>\n",
       "      <td>4.0</td>\n",
       "      <td>62.0</td>\n",
       "      <td>360</td>\n",
       "      <td>1</td>\n",
       "      <td>38</td>\n",
       "      <td>1.00</td>\n",
       "      <td>1.5</td>\n",
       "      <td>5.000000</td>\n",
       "    </tr>\n",
       "    <tr>\n",
       "      <th>11536</th>\n",
       "      <td>0</td>\n",
       "      <td>0</td>\n",
       "      <td>Centro</td>\n",
       "      <td>Private room</td>\n",
       "      <td>1.0</td>\n",
       "      <td>2.0</td>\n",
       "      <td>60.0</td>\n",
       "      <td>158</td>\n",
       "      <td>2</td>\n",
       "      <td>6</td>\n",
       "      <td>2.00</td>\n",
       "      <td>1.0</td>\n",
       "      <td>4.500000</td>\n",
       "    </tr>\n",
       "    <tr>\n",
       "      <th>11537</th>\n",
       "      <td>0</td>\n",
       "      <td>0</td>\n",
       "      <td>Tetuán</td>\n",
       "      <td>Private room</td>\n",
       "      <td>1.0</td>\n",
       "      <td>1.0</td>\n",
       "      <td>25.0</td>\n",
       "      <td>175</td>\n",
       "      <td>1</td>\n",
       "      <td>1</td>\n",
       "      <td>1.00</td>\n",
       "      <td>1.0</td>\n",
       "      <td>5.000000</td>\n",
       "    </tr>\n",
       "    <tr>\n",
       "      <th>11538</th>\n",
       "      <td>0</td>\n",
       "      <td>1</td>\n",
       "      <td>Centro</td>\n",
       "      <td>Entire home/apt</td>\n",
       "      <td>1.0</td>\n",
       "      <td>1.0</td>\n",
       "      <td>44.0</td>\n",
       "      <td>331</td>\n",
       "      <td>1</td>\n",
       "      <td>2</td>\n",
       "      <td>1.00</td>\n",
       "      <td>1.0</td>\n",
       "      <td>5.000000</td>\n",
       "    </tr>\n",
       "    <tr>\n",
       "      <th>11539</th>\n",
       "      <td>0</td>\n",
       "      <td>0</td>\n",
       "      <td>Ciudad Lineal</td>\n",
       "      <td>Entire home/apt</td>\n",
       "      <td>2.0</td>\n",
       "      <td>2.0</td>\n",
       "      <td>70.0</td>\n",
       "      <td>89</td>\n",
       "      <td>1</td>\n",
       "      <td>1</td>\n",
       "      <td>1.00</td>\n",
       "      <td>2.0</td>\n",
       "      <td>5.000000</td>\n",
       "    </tr>\n",
       "  </tbody>\n",
       "</table>\n",
       "<p>11540 rows × 13 columns</p>\n",
       "</div>"
      ],
      "text/plain": [
       "       host_is_superhost  host_identity_verified neighbourhood_group_cleansed  \\\n",
       "0                      1                       1                    Chamartín   \n",
       "1                      0                       1                       Latina   \n",
       "2                      0                       1                   Arganzuela   \n",
       "3                      0                       0                       Centro   \n",
       "4                      0                       0                       Centro   \n",
       "...                  ...                     ...                          ...   \n",
       "11535                  0                       1                       Tetuán   \n",
       "11536                  0                       0                       Centro   \n",
       "11537                  0                       0                       Tetuán   \n",
       "11538                  0                       1                       Centro   \n",
       "11539                  0                       0                Ciudad Lineal   \n",
       "\n",
       "             room_type  bedrooms  beds  price  availability_365  \\\n",
       "0         Private room       1.0   1.0   60.0               180   \n",
       "1         Private room       1.0   1.0   31.0               364   \n",
       "2         Private room       1.0   1.0   26.0               365   \n",
       "3      Entire home/apt       1.0   2.0   65.0               351   \n",
       "4      Entire home/apt       1.0   1.0   54.0                 0   \n",
       "...                ...       ...   ...    ...               ...   \n",
       "11535  Entire home/apt       3.0   4.0   62.0               360   \n",
       "11536     Private room       1.0   2.0   60.0               158   \n",
       "11537     Private room       1.0   1.0   25.0               175   \n",
       "11538  Entire home/apt       1.0   1.0   44.0               331   \n",
       "11539  Entire home/apt       2.0   2.0   70.0                89   \n",
       "\n",
       "       number_of_reviews  calculated_host_listings_count  reviews_per_month  \\\n",
       "0                     78                               1               0.58   \n",
       "1                     33                               2               0.42   \n",
       "2                    149                               1               1.12   \n",
       "3                    170                               3               1.29   \n",
       "4                      8                               1               0.11   \n",
       "...                  ...                             ...                ...   \n",
       "11535                  1                              38               1.00   \n",
       "11536                  2                               6               2.00   \n",
       "11537                  1                               1               1.00   \n",
       "11538                  1                               2               1.00   \n",
       "11539                  1                               1               1.00   \n",
       "\n",
       "      bathrooms  puntuacion_media  \n",
       "0           1.0          4.583333  \n",
       "1           1.0          4.653846  \n",
       "2           1.0          4.612613  \n",
       "3           1.0          4.596774  \n",
       "4           1.0          4.571429  \n",
       "...         ...               ...  \n",
       "11535       1.5          5.000000  \n",
       "11536       1.0          4.500000  \n",
       "11537       1.0          5.000000  \n",
       "11538       1.0          5.000000  \n",
       "11539       2.0          5.000000  \n",
       "\n",
       "[11540 rows x 13 columns]"
      ]
     },
     "execution_count": 3,
     "metadata": {},
     "output_type": "execute_result"
    }
   ],
   "source": [
    "df = pd.read_csv('../AirbnbData/CleanData/df_modelo_limpio.csv')\n",
    "df = df.drop(columns = (['Unnamed: 0', 'id', 'neighbourhood_cleansed', 'property_type']))\n",
    "df"
   ]
  },
  {
   "cell_type": "code",
   "execution_count": 4,
   "id": "3b51d467",
   "metadata": {},
   "outputs": [],
   "source": [
    "df['bathrooms'] = df['bathrooms'].apply(lambda x: float(x))"
   ]
  },
  {
   "cell_type": "code",
   "execution_count": 5,
   "id": "785d51e1",
   "metadata": {},
   "outputs": [],
   "source": [
    "df = df.dropna()"
   ]
  },
  {
   "cell_type": "code",
   "execution_count": 6,
   "id": "ae7bcfc5",
   "metadata": {},
   "outputs": [
    {
     "data": {
      "text/plain": [
       "host_is_superhost                   int64\n",
       "host_identity_verified              int64\n",
       "neighbourhood_group_cleansed       object\n",
       "room_type                          object\n",
       "bedrooms                          float64\n",
       "beds                              float64\n",
       "price                             float64\n",
       "availability_365                    int64\n",
       "number_of_reviews                   int64\n",
       "calculated_host_listings_count      int64\n",
       "reviews_per_month                 float64\n",
       "bathrooms                         float64\n",
       "puntuacion_media                  float64\n",
       "dtype: object"
      ]
     },
     "execution_count": 6,
     "metadata": {},
     "output_type": "execute_result"
    }
   ],
   "source": [
    "df.dtypes"
   ]
  },
  {
   "cell_type": "markdown",
   "id": "d600ef93",
   "metadata": {},
   "source": [
    "### Datos"
   ]
  },
  {
   "cell_type": "code",
   "execution_count": 7,
   "id": "e7736e3e",
   "metadata": {},
   "outputs": [],
   "source": [
    "X = df.drop(columns = (['price']))"
   ]
  },
  {
   "cell_type": "code",
   "execution_count": 8,
   "id": "6c9df847",
   "metadata": {},
   "outputs": [],
   "source": [
    "X_enc = pd.get_dummies(X)"
   ]
  },
  {
   "cell_type": "code",
   "execution_count": 9,
   "id": "d60ded44",
   "metadata": {},
   "outputs": [
    {
     "data": {
      "text/plain": [
       "host_is_superhost                                     0\n",
       "host_identity_verified                                0\n",
       "bedrooms                                              0\n",
       "beds                                                  0\n",
       "availability_365                                      0\n",
       "number_of_reviews                                     0\n",
       "calculated_host_listings_count                        0\n",
       "reviews_per_month                                     0\n",
       "bathrooms                                             0\n",
       "puntuacion_media                                      0\n",
       "neighbourhood_group_cleansed_Arganzuela               0\n",
       "neighbourhood_group_cleansed_Barajas                  0\n",
       "neighbourhood_group_cleansed_Carabanchel              0\n",
       "neighbourhood_group_cleansed_Centro                   0\n",
       "neighbourhood_group_cleansed_Chamartín                0\n",
       "neighbourhood_group_cleansed_Chamberí                 0\n",
       "neighbourhood_group_cleansed_Ciudad Lineal            0\n",
       "neighbourhood_group_cleansed_Fuencarral - El Pardo    0\n",
       "neighbourhood_group_cleansed_Hortaleza                0\n",
       "neighbourhood_group_cleansed_Latina                   0\n",
       "neighbourhood_group_cleansed_Moncloa - Aravaca        0\n",
       "neighbourhood_group_cleansed_Moratalaz                0\n",
       "neighbourhood_group_cleansed_Puente de Vallecas       0\n",
       "neighbourhood_group_cleansed_Retiro                   0\n",
       "neighbourhood_group_cleansed_Salamanca                0\n",
       "neighbourhood_group_cleansed_San Blas - Canillejas    0\n",
       "neighbourhood_group_cleansed_Tetuán                   0\n",
       "neighbourhood_group_cleansed_Usera                    0\n",
       "neighbourhood_group_cleansed_Vicálvaro                0\n",
       "neighbourhood_group_cleansed_Villa de Vallecas        0\n",
       "neighbourhood_group_cleansed_Villaverde               0\n",
       "room_type_Entire home/apt                             0\n",
       "room_type_Hotel room                                  0\n",
       "room_type_Private room                                0\n",
       "room_type_Shared room                                 0\n",
       "dtype: int64"
      ]
     },
     "execution_count": 9,
     "metadata": {},
     "output_type": "execute_result"
    }
   ],
   "source": [
    "X_enc.isna().sum()"
   ]
  },
  {
   "cell_type": "code",
   "execution_count": 10,
   "id": "2c871d0e",
   "metadata": {},
   "outputs": [],
   "source": [
    "y = df['price']"
   ]
  },
  {
   "cell_type": "code",
   "execution_count": 11,
   "id": "f6362ba6",
   "metadata": {},
   "outputs": [],
   "source": [
    "X_train, X_test, y_train, y_test = train_test_split(X_enc, y, test_size=0.25, random_state=123)"
   ]
  },
  {
   "cell_type": "markdown",
   "id": "e6518d89",
   "metadata": {},
   "source": [
    "### Modelo Inicial"
   ]
  },
  {
   "cell_type": "code",
   "execution_count": 41,
   "id": "725d65dd",
   "metadata": {},
   "outputs": [],
   "source": [
    "model = RandomForestRegressor()"
   ]
  },
  {
   "cell_type": "code",
   "execution_count": 42,
   "id": "5574c527",
   "metadata": {},
   "outputs": [],
   "source": [
    "n_estimators = [int(x) for x in np.linspace(start = 50, stop = 1000, num = 25)]\n",
    "max_features = ['auto', 'sqrt', 'log2']\n",
    "max_depth = [int(x) for x in np.linspace(5, 150, num = 15)]\n",
    "min_samples_split = [2, 5, 10, 20]\n",
    "min_samples_leaf = [1, 2, 4, 10, 15, 20]\n",
    "bootstrap = [True, False]\n",
    "\n",
    "params = {'n_estimators': n_estimators,\n",
    "               'max_features': max_features,\n",
    "               'max_depth': max_depth,\n",
    "               'min_samples_split': min_samples_split,\n",
    "               'min_samples_leaf': min_samples_leaf,\n",
    "               'bootstrap': bootstrap}"
   ]
  },
  {
   "cell_type": "code",
   "execution_count": 43,
   "id": "38a99c75",
   "metadata": {},
   "outputs": [],
   "source": [
    "random_cv = RandomizedSearchCV(model, params, cv=10)"
   ]
  },
  {
   "cell_type": "code",
   "execution_count": 44,
   "id": "c5e61767",
   "metadata": {},
   "outputs": [
    {
     "data": {
      "text/plain": [
       "RandomizedSearchCV(cv=10, estimator=RandomForestRegressor(),\n",
       "                   param_distributions={'bootstrap': [True, False],\n",
       "                                        'max_depth': [5, 15, 25, 36, 46, 56, 67,\n",
       "                                                      77, 87, 98, 108, 118, 129,\n",
       "                                                      139, 150],\n",
       "                                        'max_features': ['auto', 'sqrt',\n",
       "                                                         'log2'],\n",
       "                                        'min_samples_leaf': [1, 2, 4, 10, 15,\n",
       "                                                             20],\n",
       "                                        'min_samples_split': [2, 5, 10, 20],\n",
       "                                        'n_estimators': [50, 89, 129, 168, 208,\n",
       "                                                         247, 287, 327, 366,\n",
       "                                                         406, 445, 485, 525,\n",
       "                                                         564, 604, 643, 683,\n",
       "                                                         722, 762, 802, 841,\n",
       "                                                         881, 920, 960, 1000]})"
      ]
     },
     "execution_count": 44,
     "metadata": {},
     "output_type": "execute_result"
    }
   ],
   "source": [
    "random_cv.fit(X_train, y_train)"
   ]
  },
  {
   "cell_type": "code",
   "execution_count": 45,
   "id": "a557723c",
   "metadata": {},
   "outputs": [],
   "source": [
    "predictions = random_cv.best_estimator_.predict(X_test)"
   ]
  },
  {
   "cell_type": "code",
   "execution_count": 48,
   "id": "eb32c49c",
   "metadata": {},
   "outputs": [
    {
     "name": "stdout",
     "output_type": "stream",
     "text": [
      "MAE: 18.930700530102627\n",
      "MSE: 750.756345793245\n",
      "RMSE: 27.39993331731384\n",
      "R2: 0.5724497147208301\n"
     ]
    }
   ],
   "source": [
    "#Mean Absolute Error \n",
    "print('MAE:', metrics.mean_absolute_error(y_test, predictions))\n",
    "\n",
    "#Mean Squared Error\n",
    "print('MSE:', metrics.mean_squared_error(y_test, predictions))\n",
    "\n",
    "#Root Mean Squared Error\n",
    "print('RMSE:', np.sqrt(metrics.mean_squared_error(y_test, predictions)))\n",
    "\n",
    "#R2\n",
    "print('R2:', metrics.r2_score(y_test, predictions))"
   ]
  },
  {
   "cell_type": "code",
   "execution_count": 51,
   "id": "540b26d6",
   "metadata": {},
   "outputs": [
    {
     "data": {
      "text/plain": [
       "{'bootstrap': False,\n",
       " 'ccp_alpha': 0.0,\n",
       " 'criterion': 'squared_error',\n",
       " 'max_depth': 87,\n",
       " 'max_features': 'log2',\n",
       " 'max_leaf_nodes': None,\n",
       " 'max_samples': None,\n",
       " 'min_impurity_decrease': 0.0,\n",
       " 'min_samples_leaf': 1,\n",
       " 'min_samples_split': 5,\n",
       " 'min_weight_fraction_leaf': 0.0,\n",
       " 'n_estimators': 920,\n",
       " 'n_jobs': None,\n",
       " 'oob_score': False,\n",
       " 'random_state': None,\n",
       " 'verbose': 0,\n",
       " 'warm_start': False}"
      ]
     },
     "execution_count": 51,
     "metadata": {},
     "output_type": "execute_result"
    }
   ],
   "source": [
    "random_cv.best_estimator_.get_params()"
   ]
  },
  {
   "cell_type": "markdown",
   "id": "d1c07554",
   "metadata": {},
   "source": [
    "### Segundo Modelo"
   ]
  },
  {
   "cell_type": "code",
   "execution_count": 54,
   "id": "029b7fcd",
   "metadata": {},
   "outputs": [],
   "source": [
    "model_v2 = RandomForestRegressor()"
   ]
  },
  {
   "cell_type": "code",
   "execution_count": 55,
   "id": "e75340f1",
   "metadata": {},
   "outputs": [],
   "source": [
    "n_estimators = [int(x) for x in np.linspace(start = 200, stop = 1700, num = 25)]\n",
    "max_features = ['auto', 'sqrt', 'log2']\n",
    "max_depth = [int(x) for x in np.linspace(30, 130, num = 15)]\n",
    "min_samples_split = [2, 5, 10]\n",
    "min_samples_leaf = [1, 2, 4, 10]\n",
    "bootstrap = [True, False]\n",
    "\n",
    "params_v2 = {'n_estimators': n_estimators,\n",
    "               'max_features': max_features,\n",
    "               'max_depth': max_depth,\n",
    "               'min_samples_split': min_samples_split,\n",
    "               'min_samples_leaf': min_samples_leaf,\n",
    "               'bootstrap': bootstrap}"
   ]
  },
  {
   "cell_type": "code",
   "execution_count": 58,
   "id": "be4707c3",
   "metadata": {},
   "outputs": [],
   "source": [
    "random_cv_v2 = RandomizedSearchCV(model_v2, params_v2, cv=7, n_iter = 15)"
   ]
  },
  {
   "cell_type": "code",
   "execution_count": 59,
   "id": "aff8fb5f",
   "metadata": {},
   "outputs": [
    {
     "data": {
      "text/plain": [
       "RandomizedSearchCV(cv=7, estimator=RandomForestRegressor(), n_iter=15,\n",
       "                   param_distributions={'bootstrap': [True, False],\n",
       "                                        'max_depth': [30, 37, 44, 51, 58, 65,\n",
       "                                                      72, 80, 87, 94, 101, 108,\n",
       "                                                      115, 122, 130],\n",
       "                                        'max_features': ['auto', 'sqrt',\n",
       "                                                         'log2'],\n",
       "                                        'min_samples_leaf': [1, 2, 4, 10],\n",
       "                                        'min_samples_split': [2, 5, 10],\n",
       "                                        'n_estimators': [200, 262, 325, 387,\n",
       "                                                         450, 512, 575, 637,\n",
       "                                                         700, 762, 825, 887,\n",
       "                                                         950, 1012, 1075, 1137,\n",
       "                                                         1200, 1262, 1325, 1387,\n",
       "                                                         1450, 1512, 1575, 1637,\n",
       "                                                         1700]})"
      ]
     },
     "execution_count": 59,
     "metadata": {},
     "output_type": "execute_result"
    }
   ],
   "source": [
    "random_cv_v2.fit(X_train, y_train)"
   ]
  },
  {
   "cell_type": "code",
   "execution_count": 60,
   "id": "a5a00a2d",
   "metadata": {},
   "outputs": [],
   "source": [
    "predictions_v2 = random_cv_v2.best_estimator_.predict(X_test)"
   ]
  },
  {
   "cell_type": "code",
   "execution_count": 62,
   "id": "64505f01",
   "metadata": {},
   "outputs": [
    {
     "data": {
      "text/plain": [
       "{'bootstrap': False,\n",
       " 'ccp_alpha': 0.0,\n",
       " 'criterion': 'squared_error',\n",
       " 'max_depth': 80,\n",
       " 'max_features': 'log2',\n",
       " 'max_leaf_nodes': None,\n",
       " 'max_samples': None,\n",
       " 'min_impurity_decrease': 0.0,\n",
       " 'min_samples_leaf': 1,\n",
       " 'min_samples_split': 10,\n",
       " 'min_weight_fraction_leaf': 0.0,\n",
       " 'n_estimators': 637,\n",
       " 'n_jobs': None,\n",
       " 'oob_score': False,\n",
       " 'random_state': None,\n",
       " 'verbose': 0,\n",
       " 'warm_start': False}"
      ]
     },
     "execution_count": 62,
     "metadata": {},
     "output_type": "execute_result"
    }
   ],
   "source": [
    "random_cv_v2.best_estimator_.get_params()"
   ]
  },
  {
   "cell_type": "code",
   "execution_count": 61,
   "id": "8d6fa72f",
   "metadata": {},
   "outputs": [
    {
     "name": "stdout",
     "output_type": "stream",
     "text": [
      "MAE: 18.983830223027567\n",
      "MSE: 751.5973339030467\n",
      "RMSE: 27.41527555767125\n",
      "R2: 0.5719707781014104\n"
     ]
    }
   ],
   "source": [
    "#Mean Absolute Error \n",
    "print('MAE:', metrics.mean_absolute_error(y_test, predictions_v2))\n",
    "\n",
    "#Mean Squared Error\n",
    "print('MSE:', metrics.mean_squared_error(y_test, predictions_v2))\n",
    "\n",
    "#Root Mean Squared Error\n",
    "print('RMSE:', np.sqrt(metrics.mean_squared_error(y_test, predictions_v2)))\n",
    "\n",
    "#R2\n",
    "print('R2:', metrics.r2_score(y_test, predictions_v2))"
   ]
  },
  {
   "cell_type": "markdown",
   "id": "4c65ed87",
   "metadata": {},
   "source": [
    "### Modelo Final"
   ]
  },
  {
   "cell_type": "code",
   "execution_count": 16,
   "id": "f33c5573",
   "metadata": {},
   "outputs": [],
   "source": [
    "model_rf_best = RandomForestRegressor(n_estimators = 920, max_depth = 87, min_samples_split=5, \n",
    "                                      min_samples_leaf=1, max_features = 'log2') "
   ]
  },
  {
   "cell_type": "code",
   "execution_count": 17,
   "id": "92e1cc29",
   "metadata": {},
   "outputs": [
    {
     "data": {
      "text/plain": [
       "RandomForestRegressor(max_depth=87, max_features='log2', min_samples_split=5,\n",
       "                      n_estimators=920)"
      ]
     },
     "execution_count": 17,
     "metadata": {},
     "output_type": "execute_result"
    }
   ],
   "source": [
    "model_rf_best.fit(X_train, y_train)"
   ]
  },
  {
   "cell_type": "code",
   "execution_count": 18,
   "id": "837e0e88",
   "metadata": {},
   "outputs": [],
   "source": [
    "pred_best = model_rf_best.predict(X_test)"
   ]
  },
  {
   "cell_type": "code",
   "execution_count": 19,
   "id": "269ff1aa",
   "metadata": {},
   "outputs": [
    {
     "name": "stdout",
     "output_type": "stream",
     "text": [
      "MAE: 19.06117517948031\n",
      "MSE: 750.8951061636155\n",
      "RMSE: 27.40246533003218\n",
      "R2: 0.5723706916978883\n"
     ]
    }
   ],
   "source": [
    "#Mean Absolute Error \n",
    "print('MAE:', metrics.mean_absolute_error(y_test, pred_best))\n",
    "\n",
    "#Mean Squared Error\n",
    "print('MSE:', metrics.mean_squared_error(y_test, pred_best))\n",
    "\n",
    "#Root Mean Squared Error\n",
    "print('RMSE:', np.sqrt(metrics.mean_squared_error(y_test, pred_best)))\n",
    "\n",
    "#R2\n",
    "print('R2:', metrics.r2_score(y_test, pred_best))"
   ]
  },
  {
   "cell_type": "code",
   "execution_count": 21,
   "id": "1a6df8ca",
   "metadata": {},
   "outputs": [
    {
     "data": {
      "text/plain": [
       "['modelo_RF_reviews.pkl']"
      ]
     },
     "execution_count": 21,
     "metadata": {},
     "output_type": "execute_result"
    }
   ],
   "source": [
    "joblib_file = \"modelo_RF_reviews.pkl\"  \n",
    "joblib.dump(model_rf_best, joblib_file)"
   ]
  }
 ],
 "metadata": {
  "kernelspec": {
   "display_name": "Python 3 (ipykernel)",
   "language": "python",
   "name": "python3"
  },
  "language_info": {
   "codemirror_mode": {
    "name": "ipython",
    "version": 3
   },
   "file_extension": ".py",
   "mimetype": "text/x-python",
   "name": "python",
   "nbconvert_exporter": "python",
   "pygments_lexer": "ipython3",
   "version": "3.8.12"
  }
 },
 "nbformat": 4,
 "nbformat_minor": 5
}
